{
 "cells": [
  {
   "cell_type": "code",
   "execution_count": 1,
   "metadata": {},
   "outputs": [
    {
     "data": {
      "text/plain": [
       "'/home/towet/Desktop/Visions/OpenProjects/Animals-Classification-Project/research'"
      ]
     },
     "execution_count": 1,
     "metadata": {},
     "output_type": "execute_result"
    }
   ],
   "source": [
    "import os\n",
    "%pwd"
   ]
  },
  {
   "cell_type": "code",
   "execution_count": 3,
   "metadata": {},
   "outputs": [],
   "source": [
    "os.chdir('../')"
   ]
  },
  {
   "cell_type": "code",
   "execution_count": 4,
   "metadata": {},
   "outputs": [
    {
     "data": {
      "text/plain": [
       "'/home/towet/Desktop/Visions/OpenProjects/Animals-Classification-Project'"
      ]
     },
     "execution_count": 4,
     "metadata": {},
     "output_type": "execute_result"
    }
   ],
   "source": [
    "%pwd"
   ]
  },
  {
   "cell_type": "code",
   "execution_count": 15,
   "metadata": {},
   "outputs": [],
   "source": [
    "from dataclasses import dataclass\n",
    "from pathlib import Path \n",
    "\n",
    "@dataclass(frozen=True)\n",
    "class TrainingConfig:\n",
    "    root_dir: Path \n",
    "    model_path: Path\n",
    "    IMG_SIZE: int\n",
    "    EPOCHS: int\n",
    "    BATCH_SIZE: int\n",
    "    INCLUDE_TOP: bool\n",
    "    WEIGHTS: str"
   ]
  },
  {
   "cell_type": "code",
   "execution_count": 6,
   "metadata": {},
   "outputs": [],
   "source": [
    "from animalClassifier.constants import *\n",
    "from animalClassifier.utils.common import read_yaml, create_directories"
   ]
  },
  {
   "cell_type": "code",
   "execution_count": 19,
   "metadata": {},
   "outputs": [],
   "source": [
    "class ConfigurationManager:\n",
    "    def __init__(self, \n",
    "                 config_file_path = CONFIG_FILE_PATH,\n",
    "                 params_file_path = PARAMS_FILE_PATH):\n",
    "        self.config = read_yaml(config_file_path)\n",
    "        self.params = read_yaml(params_file_path)\n",
    "\n",
    "        create_directories([self.config.artifacts_root])\n",
    "\n",
    "    def get_training_config(self) -> TrainingConfig:\n",
    "        config = self.config.training \n",
    "        params = self.params\n",
    "        create_directories([config.root_dir])\n",
    "\n",
    "        training_config = TrainingConfig(\n",
    "            root_dir=Path(config.root_dir),\n",
    "            model_path=config.model_path,\n",
    "            EPOCHS=params.EPOCHS,\n",
    "            WEIGHTS=params.WEIGHTS,\n",
    "            IMG_SIZE=params.IMG_SIZE,\n",
    "            BATCH_SIZE=params.BATCH_SIZE,\n",
    "            INCLUDE_TOP=params.INCLUDE_TOP\n",
    "        )\n",
    "        return training_config"
   ]
  },
  {
   "cell_type": "code",
   "execution_count": 10,
   "metadata": {},
   "outputs": [],
   "source": [
    "import tensorflow as tf\n",
    "import numpy as np \n",
    "from tensorflow.keras.preprocessing.image import ImageDataGenerator\n",
    "import os\n"
   ]
  },
  {
   "cell_type": "code",
   "execution_count": 20,
   "metadata": {},
   "outputs": [],
   "source": [
    "class Training:\n",
    "    def __init__(self, config: TrainingConfig):\n",
    "        self.config = config\n",
    "\n",
    "    def train_val_gen(self):\n",
    "        train_ds = os.path.join(\"artifacts\", \"data_ingestion\", \"animals\", \"train\")\n",
    "        val_ds = os.path.join(\"artifacts\", \"data_ingestion\", \"animals\", \"val\")\n",
    "\n",
    "        train_datagen = ImageDataGenerator(\n",
    "        rescale = 1./255,  \n",
    "        shear_range = 0.1, \n",
    "        zoom_range = 0.1,  \n",
    "        horizontal_flip = True,  \n",
    "        width_shift_range = 0.1,\n",
    "        height_shift_range = 0.1 \n",
    "        )\n",
    "\n",
    "        val_datagen = ImageDataGenerator(rescale=1./255)\n",
    "\n",
    "        train_generator = train_datagen.flow_from_directory(\n",
    "            train_ds,\n",
    "            target_size = (self.config.IMG_SIZE, self.config.IMG_SIZE),\n",
    "            batch_size = self.config.BATCH_SIZE,\n",
    "            class_mode = 'categorical'\n",
    "        )\n",
    "\n",
    "        val_generator = val_datagen.flow_from_directory(\n",
    "            val_ds,\n",
    "            target_size = (self.config.IMG_SIZE, self.config.IMG_SIZE),\n",
    "            batch_size = self.config.BATCH_SIZE,\n",
    "            class_mode = 'categorical'\n",
    "        )\n",
    "        return train_generator, val_generator\n",
    "    \n",
    "    \n",
    "    def train(self):\n",
    "        train_gen, val_gen = self.train_val_gen()\n",
    "        pretrained_model = tf.keras.applications.Xception(weights=self.config.WEIGHTS,\n",
    "                                                           include_top=self.config.INCLUDE_TOP, \n",
    "                                                           input_shape=[self.config.IMG_SIZE, self.config.IMG_SIZE, 3])\n",
    "        pretrained_model.trainable=False\n",
    "        vgg16_model = tf.keras.Sequential([\n",
    "            pretrained_model,\n",
    "            tf.keras.layers.GlobalAveragePooling2D(),\n",
    "            tf.keras.layers.Dense(64, activation='relu'),\n",
    "            tf.keras.layers.Dense(5, activation='softmax')\n",
    "        ])\n",
    "\n",
    "        vgg16_model.compile(optimizer='adam',loss='categorical_crossentropy',metrics=['accuracy'])\n",
    "\n",
    "        vgg16_model.fit(train_gen,epochs=self.config.EPOCHS,\n",
    "                        steps_per_epoch=len(train_gen)/self.config.BATCH_SIZE,\n",
    "                    validation_steps = len(val_gen)/self.config.BATCH_SIZE,\n",
    "                    validation_data=val_gen)\n",
    "        vgg16_model.save(self.config.model_path)"
   ]
  },
  {
   "cell_type": "code",
   "execution_count": 21,
   "metadata": {},
   "outputs": [
    {
     "name": "stdout",
     "output_type": "stream",
     "text": [
      "[2024-01-25 14:47:26,293: INFO: common: yaml file: config/config.yaml loaded successfully]\n",
      "[2024-01-25 14:47:26,298: INFO: common: yaml file: params.yaml loaded successfully]\n",
      "[2024-01-25 14:47:26,301: INFO: common: created directory at: artifacts]\n",
      "[2024-01-25 14:47:26,303: INFO: common: created directory at: artifacts/training]\n",
      "Found 13474 images belonging to 5 classes.\n",
      "Found 1497 images belonging to 5 classes.\n",
      "Downloading data from https://storage.googleapis.com/tensorflow/keras-applications/xception/xception_weights_tf_dim_ordering_tf_kernels_notop.h5\n",
      "83683744/83683744 [==============================] - 11s 0us/step\n"
     ]
    },
    {
     "name": "stderr",
     "output_type": "stream",
     "text": [
      "2024-01-25 14:47:48.335551: I tensorflow/core/common_runtime/executor.cc:1197] [/device:CPU:0] (DEBUG INFO) Executor start aborting (this does not indicate an error and you can ignore this message): INVALID_ARGUMENT: You must feed a value for placeholder tensor 'Placeholder/_0' with dtype int32\n",
      "\t [[{{node Placeholder/_0}}]]\n",
      "2024-01-25 14:47:56.780076: W tensorflow/tsl/framework/cpu_allocator_impl.cc:83] Allocation of 50466816 exceeds 10% of free system memory.\n",
      "2024-01-25 14:47:58.240360: W tensorflow/tsl/framework/cpu_allocator_impl.cc:83] Allocation of 97329152 exceeds 10% of free system memory.\n",
      "2024-01-25 14:47:58.641579: W tensorflow/tsl/framework/cpu_allocator_impl.cc:83] Allocation of 97329152 exceeds 10% of free system memory.\n",
      "2024-01-25 14:47:58.641644: W tensorflow/tsl/framework/cpu_allocator_impl.cc:83] Allocation of 49561600 exceeds 10% of free system memory.\n",
      "2024-01-25 14:47:58.776387: W tensorflow/tsl/framework/cpu_allocator_impl.cc:83] Allocation of 194658304 exceeds 10% of free system memory.\n"
     ]
    },
    {
     "name": "stdout",
     "output_type": "stream",
     "text": [
      "14/13 [===============================] - ETA: -7s - loss: 0.6437 - accuracy: 0.7879"
     ]
    },
    {
     "name": "stderr",
     "output_type": "stream",
     "text": [
      "2024-01-25 14:50:14.623872: I tensorflow/core/common_runtime/executor.cc:1197] [/device:CPU:0] (DEBUG INFO) Executor start aborting (this does not indicate an error and you can ignore this message): INVALID_ARGUMENT: You must feed a value for placeholder tensor 'Placeholder/_0' with dtype int32\n",
      "\t [[{{node Placeholder/_0}}]]\n"
     ]
    },
    {
     "name": "stdout",
     "output_type": "stream",
     "text": [
      "13/13 [==============================] - 168s 12s/step - loss: 0.6437 - accuracy: 0.7879 - val_loss: 0.1605 - val_accuracy: 0.9531\n"
     ]
    }
   ],
   "source": [
    "try:\n",
    "    config = ConfigurationManager()\n",
    "    train_config = config.get_training_config()\n",
    "    training = Training(config=train_config)\n",
    "    training.train()\n",
    "except Exception as e:\n",
    "    raise e\n"
   ]
  }
 ],
 "metadata": {
  "kernelspec": {
   "display_name": "animals",
   "language": "python",
   "name": "python3"
  },
  "language_info": {
   "codemirror_mode": {
    "name": "ipython",
    "version": 3
   },
   "file_extension": ".py",
   "mimetype": "text/x-python",
   "name": "python",
   "nbconvert_exporter": "python",
   "pygments_lexer": "ipython3",
   "version": "3.10.12"
  }
 },
 "nbformat": 4,
 "nbformat_minor": 2
}
